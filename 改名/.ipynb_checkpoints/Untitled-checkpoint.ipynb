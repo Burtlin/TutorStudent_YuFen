{
 "cells": [
  {
   "cell_type": "raw",
   "metadata": {},
   "source": [
    "Shift + Tab(兩次) : ?\n",
    "Ctrl + Enter : 執行Block\n",
    "Shift + Enter : 執行Block，到下一個Block\n",
    "\n",
    "\n",
    "格子模式(案鍵Esc)\n",
    "a 上面增加一格\n",
    "b 下面增加一格\n",
    "dd 刪除格子\n",
    "z 回復格子"
   ]
  },
  {
   "cell_type": "code",
   "execution_count": 1,
   "metadata": {},
   "outputs": [],
   "source": [
    "import os\n",
    "path = 'test/'"
   ]
  },
  {
   "cell_type": "code",
   "execution_count": 8,
   "metadata": {},
   "outputs": [
    {
     "name": "stdout",
     "output_type": "stream",
     "text": [
      "('test/', ['金幣熱火', '金幣熱火2'], [])\n",
      "('test/金幣熱火', [], ['Thumbs.db', '金幣熱火-三合一_CHS.png', '金幣熱火-三合一_CHT.png', '金幣熱火-三合一_EN.png', '金幣熱火-三合一_JA.png', '金幣熱火-三合一_TH.png', '金幣熱火-單包_CHS.png', '金幣熱火-單包_CHT.png', '金幣熱火-單包_EN.png', '金幣熱火-單包_JA.png', '金幣熱火-單包_TH.png'])\n",
      "('test/金幣熱火2', [], ['Thumbs.db', '金幣熱火-三合一_CHS.png', '金幣熱火-三合一_CHT.png', '金幣熱火-三合一_EN.png', '金幣熱火-三合一_JA.png', '金幣熱火-三合一_TH.png', '金幣熱火-單包_CHS.png', '金幣熱火-單包_CHT.png', '金幣熱火-單包_EN.png', '金幣熱火-單包_JA.png', '金幣熱火-單包_TH.png'])\n"
     ]
    }
   ],
   "source": [
    "for a in os.walk(path):\n",
    "    print(a)\n",
    "    aaa = a[1]"
   ]
  },
  {
   "cell_type": "code",
   "execution_count": null,
   "metadata": {},
   "outputs": [],
   "source": []
  },
  {
   "cell_type": "code",
   "execution_count": 3,
   "metadata": {},
   "outputs": [],
   "source": []
  },
  {
   "cell_type": "markdown",
   "metadata": {},
   "source": [
    "# 資料顯示"
   ]
  },
  {
   "cell_type": "code",
   "execution_count": 24,
   "metadata": {},
   "outputs": [
    {
     "name": "stdout",
     "output_type": "stream",
     "text": [
      "test/ ['金幣熱火', '金幣熱火2'] []\n",
      "--------------------\n",
      "====================\n",
      "\n",
      "test/金幣熱火 [] ['Thumbs.db', '金幣熱火-三合一_CHS.png', '金幣熱火-三合一_CHT.png', '金幣熱火-三合一_EN.png', '金幣熱火-三合一_JA.png', '金幣熱火-三合一_TH.png', '金幣熱火-單包_CHS.png', '金幣熱火-單包_CHT.png', '金幣熱火-單包_EN.png', '金幣熱火-單包_JA.png', '金幣熱火-單包_TH.png']\n",
      "--------------------\n",
      "Thumbs.db\n",
      "金幣熱火-三合一_CHS.png\n",
      "金幣熱火-三合一_CHT.png\n",
      "金幣熱火-三合一_EN.png\n",
      "金幣熱火-三合一_JA.png\n",
      "金幣熱火-三合一_TH.png\n",
      "金幣熱火-單包_CHS.png\n",
      "金幣熱火-單包_CHT.png\n",
      "金幣熱火-單包_EN.png\n",
      "金幣熱火-單包_JA.png\n",
      "金幣熱火-單包_TH.png\n",
      "====================\n",
      "\n",
      "test/金幣熱火2 [] ['Thumbs.db', '金幣熱火-三合一_CHS.png', '金幣熱火-三合一_CHT.png', '金幣熱火-三合一_EN.png', '金幣熱火-三合一_JA.png', '金幣熱火-三合一_TH.png', '金幣熱火-單包_CHS.png', '金幣熱火-單包_CHT.png', '金幣熱火-單包_EN.png', '金幣熱火-單包_JA.png', '金幣熱火-單包_TH.png']\n",
      "--------------------\n",
      "Thumbs.db\n",
      "金幣熱火-三合一_CHS.png\n",
      "金幣熱火-三合一_CHT.png\n",
      "金幣熱火-三合一_EN.png\n",
      "金幣熱火-三合一_JA.png\n",
      "金幣熱火-三合一_TH.png\n",
      "金幣熱火-單包_CHS.png\n",
      "金幣熱火-單包_CHT.png\n",
      "金幣熱火-單包_EN.png\n",
      "金幣熱火-單包_JA.png\n",
      "金幣熱火-單包_TH.png\n",
      "====================\n",
      "\n"
     ]
    }
   ],
   "source": [
    "for root, dirs, files in os.walk(path):\n",
    "    print(root, dirs, files)\n",
    "    print('-'*20)\n",
    "    for file in files:\n",
    "        print(file)\n",
    "    print('='*20)\n",
    "    print()\n",
    "    "
   ]
  },
  {
   "cell_type": "code",
   "execution_count": null,
   "metadata": {},
   "outputs": [],
   "source": [
    "def os.walk(path):\n",
    "    .....\n",
    "    return(root, dirs, files)"
   ]
  },
  {
   "cell_type": "code",
   "execution_count": 9,
   "metadata": {},
   "outputs": [
    {
     "data": {
      "text/plain": [
       "<generator object walk at 0x000002DE6B8B0BC8>"
      ]
     },
     "execution_count": 9,
     "metadata": {},
     "output_type": "execute_result"
    }
   ],
   "source": [
    "# os.walk(path)"
   ]
  },
  {
   "cell_type": "code",
   "execution_count": 33,
   "metadata": {},
   "outputs": [
    {
     "data": {
      "text/plain": [
       "str"
      ]
     },
     "execution_count": 33,
     "metadata": {},
     "output_type": "execute_result"
    }
   ],
   "source": [
    "type(file)"
   ]
  },
  {
   "cell_type": "code",
   "execution_count": 39,
   "metadata": {},
   "outputs": [
    {
     "name": "stdout",
     "output_type": "stream",
     "text": [
      "old file: Thumbs.db\n",
      "new file: Thumbs.db\n",
      "\n",
      "old file: 金幣熱火-三合一_CHS.png\n",
      "new file: 金幣熱火-CRM三合一_CHS.png\n",
      "\n",
      "old file: 金幣熱火-三合一_CHT.png\n",
      "new file: 金幣熱火-CRM三合一_CHT.png\n",
      "\n",
      "old file: 金幣熱火-三合一_EN.png\n",
      "new file: 金幣熱火-CRM三合一_EN.png\n",
      "\n",
      "old file: 金幣熱火-三合一_JA.png\n",
      "new file: 金幣熱火-CRM三合一_JA.png\n",
      "\n",
      "old file: 金幣熱火-三合一_TH.png\n",
      "new file: 金幣熱火-CRM三合一_TH.png\n",
      "\n",
      "old file: 金幣熱火-單包_CHS.png\n",
      "new file: 金幣熱火-單包_CHS.png\n",
      "\n",
      "old file: 金幣熱火-單包_CHT.png\n",
      "new file: 金幣熱火-單包_CHT.png\n",
      "\n",
      "old file: 金幣熱火-單包_EN.png\n",
      "new file: 金幣熱火-單包_EN.png\n",
      "\n",
      "old file: 金幣熱火-單包_JA.png\n",
      "new file: 金幣熱火-單包_JA.png\n",
      "\n",
      "old file: 金幣熱火-單包_TH.png\n",
      "new file: 金幣熱火-單包_TH.png\n",
      "\n",
      "old file: Thumbs.db\n",
      "new file: Thumbs.db\n",
      "\n",
      "old file: 金幣熱火-三合一_CHS.png\n",
      "new file: 金幣熱火-CRM三合一_CHS.png\n",
      "\n",
      "old file: 金幣熱火-三合一_CHT.png\n",
      "new file: 金幣熱火-CRM三合一_CHT.png\n",
      "\n",
      "old file: 金幣熱火-三合一_EN.png\n",
      "new file: 金幣熱火-CRM三合一_EN.png\n",
      "\n",
      "old file: 金幣熱火-三合一_JA.png\n",
      "new file: 金幣熱火-CRM三合一_JA.png\n",
      "\n",
      "old file: 金幣熱火-三合一_TH.png\n",
      "new file: 金幣熱火-CRM三合一_TH.png\n",
      "\n",
      "old file: 金幣熱火-單包_CHS.png\n",
      "new file: 金幣熱火-單包_CHS.png\n",
      "\n",
      "old file: 金幣熱火-單包_CHT.png\n",
      "new file: 金幣熱火-單包_CHT.png\n",
      "\n",
      "old file: 金幣熱火-單包_EN.png\n",
      "new file: 金幣熱火-單包_EN.png\n",
      "\n",
      "old file: 金幣熱火-單包_JA.png\n",
      "new file: 金幣熱火-單包_JA.png\n",
      "\n",
      "old file: 金幣熱火-單包_TH.png\n",
      "new file: 金幣熱火-單包_TH.png\n",
      "\n"
     ]
    }
   ],
   "source": [
    "for root, dirs, files in os.walk(path):\n",
    "#     print(root, dirs, files)\n",
    "#     print('-'*20)\n",
    "    for file in files:\n",
    "        print('old file:', file)\n",
    "        new_file = file.replace('三合一', 'CRM三合一')\n",
    "        print('new file:', new_file)\n",
    "        print()\n",
    "#     print('='*20)\n",
    "#     print()\n",
    "    "
   ]
  },
  {
   "cell_type": "code",
   "execution_count": 48,
   "metadata": {},
   "outputs": [
    {
     "data": {
      "text/plain": [
       "'test/金幣熱火2'"
      ]
     },
     "execution_count": 48,
     "metadata": {},
     "output_type": "execute_result"
    }
   ],
   "source": [
    "root"
   ]
  },
  {
   "cell_type": "code",
   "execution_count": 49,
   "metadata": {},
   "outputs": [
    {
     "data": {
      "text/plain": [
       "('test/金幣熱火2', '金幣熱火-單包_TH.png')"
      ]
     },
     "execution_count": 49,
     "metadata": {},
     "output_type": "execute_result"
    }
   ],
   "source": [
    "old_file= 'test/金幣熱火\\金幣熱火-三合一_CHS.png'\n",
    "new_file= 'test/金幣熱火\\金幣熱火-CRM三合一_CHS.png'"
   ]
  },
  {
   "cell_type": "code",
   "execution_count": 59,
   "metadata": {},
   "outputs": [
    {
     "name": "stdout",
     "output_type": "stream",
     "text": [
      "--------------------\n",
      "root :  test/\n",
      "--------------------\n",
      "root :  test/金幣熱火\n",
      "old file: test/金幣熱火\\Thumbs.db\n",
      "new file: test/金幣熱火\\Thumbs.db\n",
      "old file: test/金幣熱火\\金幣熱火-三合一_CHS.png\n",
      "new file: test/金幣熱火\\金幣熱火-CRM三合一_CHS.png\n",
      "old file: test/金幣熱火\\金幣熱火-三合一_CHT.png\n",
      "new file: test/金幣熱火\\金幣熱火-CRM三合一_CHT.png\n",
      "old file: test/金幣熱火\\金幣熱火-三合一_EN.png\n",
      "new file: test/金幣熱火\\金幣熱火-CRM三合一_EN.png\n",
      "old file: test/金幣熱火\\金幣熱火-三合一_JA.png\n",
      "new file: test/金幣熱火\\金幣熱火-CRM三合一_JA.png\n",
      "old file: test/金幣熱火\\金幣熱火-三合一_TH.png\n",
      "new file: test/金幣熱火\\金幣熱火-CRM三合一_TH.png\n",
      "old file: test/金幣熱火\\金幣熱火-單包_CHS.png\n",
      "new file: test/金幣熱火\\金幣熱火-CRM單包_CHS.png\n",
      "old file: test/金幣熱火\\金幣熱火-單包_CHT.png\n",
      "new file: test/金幣熱火\\金幣熱火-CRM單包_CHT.png\n",
      "old file: test/金幣熱火\\金幣熱火-單包_EN.png\n",
      "new file: test/金幣熱火\\金幣熱火-CRM單包_EN.png\n",
      "old file: test/金幣熱火\\金幣熱火-單包_JA.png\n",
      "new file: test/金幣熱火\\金幣熱火-CRM單包_JA.png\n",
      "old file: test/金幣熱火\\金幣熱火-單包_TH.png\n",
      "new file: test/金幣熱火\\金幣熱火-CRM單包_TH.png\n",
      "--------------------\n",
      "root :  test/金幣熱火2\n",
      "old file: test/金幣熱火2\\Thumbs.db\n",
      "new file: test/金幣熱火2\\Thumbs.db\n",
      "old file: test/金幣熱火2\\金幣熱火-三合一_CHS.png\n",
      "new file: test/金幣熱火2\\金幣熱火-CRM三合一_CHS.png\n",
      "old file: test/金幣熱火2\\金幣熱火-三合一_CHT.png\n",
      "new file: test/金幣熱火2\\金幣熱火-CRM三合一_CHT.png\n",
      "old file: test/金幣熱火2\\金幣熱火-三合一_EN.png\n",
      "new file: test/金幣熱火2\\金幣熱火-CRM三合一_EN.png\n",
      "old file: test/金幣熱火2\\金幣熱火-三合一_JA.png\n",
      "new file: test/金幣熱火2\\金幣熱火-CRM三合一_JA.png\n",
      "old file: test/金幣熱火2\\金幣熱火-三合一_TH.png\n",
      "new file: test/金幣熱火2\\金幣熱火-CRM三合一_TH.png\n",
      "old file: test/金幣熱火2\\金幣熱火-單包_CHS.png\n",
      "new file: test/金幣熱火2\\金幣熱火-CRM單包_CHS.png\n",
      "old file: test/金幣熱火2\\金幣熱火-單包_CHT.png\n",
      "new file: test/金幣熱火2\\金幣熱火-CRM單包_CHT.png\n",
      "old file: test/金幣熱火2\\金幣熱火-單包_EN.png\n",
      "new file: test/金幣熱火2\\金幣熱火-CRM單包_EN.png\n",
      "old file: test/金幣熱火2\\金幣熱火-單包_JA.png\n",
      "new file: test/金幣熱火2\\金幣熱火-CRM單包_JA.png\n",
      "old file: test/金幣熱火2\\金幣熱火-單包_TH.png\n",
      "new file: test/金幣熱火2\\金幣熱火-CRM單包_TH.png\n"
     ]
    }
   ],
   "source": [
    "for root, dirs, files in os.walk(path):\n",
    "#     print(root, dirs, files)\n",
    "    print('-'*20)\n",
    "    print('root : ', root)\n",
    "    for file in files:\n",
    "        old_file_path = os.path.join(root, file)\n",
    "        print('old file:', old_file_path)\n",
    "#         print('old file:', root + '/' + file)\n",
    "        new_file = file.replace('三合一', 'CRM三合一')\n",
    "        new_file = new_file.replace('單包', 'CRM單包')\n",
    "        new_file_path = os.path.join(root, new_file)\n",
    "        print('new file:', new_file_path)\n",
    "\n",
    "\n",
    "\n",
    "        os.rename(old_file_path, new_file_path)\n",
    "\n",
    "#         print()"
   ]
  },
  {
   "cell_type": "code",
   "execution_count": 60,
   "metadata": {},
   "outputs": [],
   "source": [
    "# 還原\n",
    "for root, dirs, files in os.walk(path):\n",
    "    for file in files:\n",
    "        new_file = file.replace('CRM三合一', '三合一')\n",
    "        new_file = new_file.replace('CRM單包', '單包')\n",
    "        os.rename(os.path.join(root, file), os.path.join(root, new_file))"
   ]
  },
  {
   "cell_type": "code",
   "execution_count": 62,
   "metadata": {},
   "outputs": [],
   "source": [
    "import shutil\n",
    "shutil.copy()"
   ]
  },
  {
   "cell_type": "code",
   "execution_count": null,
   "metadata": {},
   "outputs": [],
   "source": []
  }
 ],
 "metadata": {
  "kernelspec": {
   "display_name": "Python 3",
   "language": "python",
   "name": "python3"
  },
  "language_info": {
   "codemirror_mode": {
    "name": "ipython",
    "version": 3
   },
   "file_extension": ".py",
   "mimetype": "text/x-python",
   "name": "python",
   "nbconvert_exporter": "python",
   "pygments_lexer": "ipython3",
   "version": "3.7.6"
  }
 },
 "nbformat": 4,
 "nbformat_minor": 4
}
